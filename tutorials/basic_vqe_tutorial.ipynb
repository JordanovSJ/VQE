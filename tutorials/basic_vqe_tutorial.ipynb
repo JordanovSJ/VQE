{
 "cells": [
  {
   "cell_type": "code",
   "execution_count": 11,
   "metadata": {
    "scrolled": true
   },
   "outputs": [],
   "source": [
    "from src.vqe_runner import VQERunner\n",
    "from src.ansatz_element_sets import UCCSDExcitations\n",
    "from src.backends import MatrixCacheBackend, QiskitSimBackend\n",
    "from src.cache import *\n",
    "from src.molecules.molecules import H2, H4\n",
    "\n",
    "import logging\n",
    "import time"
   ]
  },
  {
   "cell_type": "markdown",
   "metadata": {},
   "source": [
    "## Create a molecular system"
   ]
  },
  {
   "cell_type": "code",
   "execution_count": 12,
   "metadata": {},
   "outputs": [],
   "source": [
    "# the unit for radius is an Angstrom\n",
    "r = 1\n",
    "molecule = H2(r=r)"
   ]
  },
  {
   "cell_type": "markdown",
   "metadata": {},
   "source": [
    "## Create a UCCSD ansatz. "
   ]
  },
  {
   "cell_type": "code",
   "execution_count": 13,
   "metadata": {},
   "outputs": [],
   "source": [
    "n_orbitals = molecule.n_orbitals\n",
    "n_electrons = molecule.n_electrons\n",
    "ansatz_element_type = 'f_exc'\n",
    "ansatz = UCCSDExcitations(n_orbitals, n_electrons, ansatz_element_type).get_all_elements()\n"
   ]
  },
  {
   "cell_type": "markdown",
   "metadata": {},
   "source": [
    "## Choose a backend to calculate the expectation values for the energy.\n",
    "\n",
    "Currently the code supports a qiskit noiseless simulator (QiskitSimBackend) and a custom matrix-multiplication noiseless simulator (MatrixCacheBackend).  "
   ]
  },
  {
   "cell_type": "code",
   "execution_count": 14,
   "metadata": {},
   "outputs": [],
   "source": [
    "backend = QiskitSimBackend\n",
    "\n",
    "# The MatrixCacheBackend uses a cache to save frequently computed values.\n",
    "# The cache significantly accelarates the simulation speed, but it also\n",
    "# requires a lot of RAM. Note that your computer will freeze if it runs out of RAM.\n",
    "# You can safely use the cache for H2, but for any molecule with more than \n",
    "# 10 electrons it will require GBs of RAM\n",
    "\n",
    "if backend == MatrixCacheBackend:\n",
    "    global_cache = GlobalCache(molecule)\n",
    "    global_cache.calculate_exc_gen_sparse_matrices_dict(ansatz)\n",
    "else: \n",
    "    global_cache = None"
   ]
  },
  {
   "cell_type": "markdown",
   "metadata": {},
   "source": [
    "## Create a VQE runner object"
   ]
  },
  {
   "cell_type": "code",
   "execution_count": 15,
   "metadata": {},
   "outputs": [],
   "source": [
    "# the code supports all optimizers from scipy.minimize\n",
    "optimizer = 'Nelder-Mead'\n",
    "optimizer_options = {'gtol': 10e-8}\n",
    "vqe_runner = VQERunner(molecule, backend=backend, use_ansatz_gradient=True,\n",
    "                       optimizer=optimizer, optimizer_options=optimizer_options)"
   ]
  },
  {
   "cell_type": "code",
   "execution_count": 9,
   "metadata": {},
   "outputs": [
    {
     "name": "stderr",
     "output_type": "stream",
     "text": [
      "/home/jordan/anaconda3/envs/vqe_test/lib/python3.7/site-packages/scipy/optimize/_minimize.py:520: RuntimeWarning: Method Nelder-Mead does not use gradient information (jac).\n",
      "  RuntimeWarning)\n",
      "/home/jordan/workspace/VQE/src/vqe_runner.py:91: OptimizeWarning: Unknown solver options: gtol\n",
      "  bounds=config.optimizer_bounds)\n"
     ]
    }
   ],
   "source": [
    "result = vqe_runner.vqe_run(ansatz=ansatz, cache=global_cache)"
   ]
  },
  {
   "cell_type": "code",
   "execution_count": 10,
   "metadata": {},
   "outputs": [
    {
     "name": "stdout",
     "output_type": "stream",
     "text": [
      "-1.1011503301329555\n"
     ]
    }
   ],
   "source": [
    "print(result.fun)"
   ]
  },
  {
   "cell_type": "code",
   "execution_count": null,
   "metadata": {},
   "outputs": [],
   "source": []
  }
 ],
 "metadata": {
  "kernelspec": {
   "display_name": "Python 3",
   "language": "python",
   "name": "python3"
  },
  "language_info": {
   "codemirror_mode": {
    "name": "ipython",
    "version": 3
   },
   "file_extension": ".py",
   "mimetype": "text/x-python",
   "name": "python",
   "nbconvert_exporter": "python",
   "pygments_lexer": "ipython3",
   "version": "3.7.5"
  }
 },
 "nbformat": 4,
 "nbformat_minor": 2
}
