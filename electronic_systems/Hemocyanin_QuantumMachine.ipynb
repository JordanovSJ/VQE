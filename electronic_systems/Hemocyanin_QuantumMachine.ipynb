{
 "cells": [
  {
   "cell_type": "code",
   "execution_count": 35,
   "metadata": {
    "scrolled": true
   },
   "outputs": [],
   "source": [
    "import openfermion\n",
    "from src.q_systems import ElectronicSystem\n",
    "from electronic_system_hamiltonians import  ham_14_qubits, ham_16_qubits\n",
    "import numpy\n",
    "from src.vqe_runner import VQERunner\n",
    "from src.ansatz_elements import *\n",
    "from src.backends import *\n",
    "from src.utils import LogUtils\n",
    "from src.cache import *\n",
    "from pylab import *\n",
    "import pandas\n",
    "from src.backends import QiskitSimBackend\n",
    "from qiskit import Aer\n",
    "from qiskit import QuantumCircuit, QuantumRegister, ClassicalRegister \n",
    "from qiskit.quantum_info import Pauli\n",
    "from qiskit.aqua.operators.legacy import pauli_measurement\n",
    "from qiskit import IBMQ\n",
    "from qiskit.compiler import transpile\n",
    "\n"
   ]
  },
  {
   "cell_type": "code",
   "execution_count": 36,
   "metadata": {},
   "outputs": [],
   "source": [
    "n_orbitals = 14\n",
    "n_electrons = 10"
   ]
  },
  {
   "cell_type": "code",
   "execution_count": 37,
   "metadata": {},
   "outputs": [
    {
     "data": {
      "text/plain": [
       "(0.25+0j) [Z0 Z2] +\n",
       "(-0.25+0j) [Z0 Z3] +\n",
       "(-0.25+0j) [Z1 Z2] +\n",
       "(0.25+0j) [Z1 Z3]"
      ]
     },
     "execution_count": 37,
     "metadata": {},
     "output_type": "execute_result"
    }
   ],
   "source": [
    "operator = openfermion.FermionOperator('[0^ 0 2^ 2]-[0^ 0 3^ 3]-[1^ 1 2^ 2]+[1^ 1 3^ 3]')\n",
    "operator = openfermion.jordan_wigner(operator)\n",
    "operator"
   ]
  },
  {
   "cell_type": "markdown",
   "metadata": {},
   "source": [
    "For reference: https://github.com/JordanovSJ/VQE/blob/5b26ca5a05b6f198e7a2fe1f8b707aa1b0d73248/electronic_systems/vqe_Sz.py#L72"
   ]
  },
  {
   "cell_type": "markdown",
   "metadata": {},
   "source": [
    "Below is the definition of the already converged ground state ansatz from quantum simulator."
   ]
  },
  {
   "cell_type": "code",
   "execution_count": 62,
   "metadata": {},
   "outputs": [],
   "source": [
    "def long_ansatz():\n",
    "\n",
    "    ansatz = []\n",
    "    # ansatz.append(Gen2QubitAnsatzElement(0, 1))\n",
    "\n",
    "    for i in range(n_orbitals):\n",
    "        for j in range(i + 1, n_orbitals):\n",
    "            if i % 2 == j % 2:\n",
    "                ansatz.append(EffSFExc(i, j, system_n_qubits=n_orbitals))\n",
    "\n",
    "    for i, j, k, l in itertools.combinations(range(n_orbitals), 4):\n",
    "        # spin conserving excitations only\n",
    "        if i % 2 + j % 2 == k % 2 + l % 2:\n",
    "            ansatz.append(DFExc([i, j], [k, l], system_n_qubits=n_orbitals))\n",
    "\n",
    "    return ansatz"
   ]
  },
  {
   "cell_type": "code",
   "execution_count": 63,
   "metadata": {},
   "outputs": [],
   "source": [
    "ansatz =long_ansatz()\n",
    "parameters = [ 7.70153256e-17,  2.10180158e-17,  1.76063693e-16,  1.15775938e-16,\n",
    "        2.65884412e-01,  4.56728308e-01,  2.40061494e-16, -2.39070899e-18,\n",
    "        1.29689944e-16,  1.14963921e-16,  1.95019293e-01,  4.18619125e-01,\n",
    "        1.73299760e-17, -9.12865839e-17,  2.88831075e-17, -5.30627915e-01,\n",
    "       -2.52021838e-01, -4.26379394e-17,  4.73992789e-17, -1.58525459e-17,\n",
    "       -5.38922216e-01, -2.83032548e-01, -1.55296877e-17, -7.75782373e-18,\n",
    "        1.89005773e-01, -1.09781102e-01,  4.80988268e-17,  1.52359549e-17,\n",
    "        1.78197395e-01, -1.23610762e-01, -1.29605262e-17, -4.55647749e-01,\n",
    "       -4.83579598e-01, -2.07871736e-17, -4.32582476e-01, -4.99081669e-01,\n",
    "       -1.17647827e-01,  6.23731641e-02, -1.07247420e-01,  8.59775377e-02,\n",
    "       -1.85845156e-02, -7.09683485e-02, -2.39079042e-01,  5.53030187e-03,\n",
    "        4.60450091e-02,  9.92244760e-02, -7.85427764e-02, -9.31384916e-04,\n",
    "        5.57077174e-03, -5.91023611e-02, -9.36741291e-02,  1.07363961e-01,\n",
    "        1.34630332e-02, -1.33189253e-03,  1.49392822e-02,  5.30376691e-03,\n",
    "       -2.63698222e-02, -3.27383144e-02, -9.45674101e-03, -4.67275891e-03,\n",
    "        2.47032751e-02,  3.44450506e-02,  2.31133320e-02,  2.20672804e-02,\n",
    "       -3.89302324e-02, -6.47970641e-02, -3.00628177e-02,  8.56844138e-02,\n",
    "        7.78327424e-02,  4.06416859e-03, -2.23962220e-02, -4.83774290e-02,\n",
    "        2.35652123e-02,  4.01403206e-02,  5.19803685e-02,  9.46250763e-02,\n",
    "       -6.30287969e-02,  1.07036215e-01,  2.18103124e-03,  1.49311877e-03,\n",
    "        3.73478468e-02, -1.63585933e-03,  1.00195682e-02, -1.02473237e-02,\n",
    "       -1.51576570e-02, -7.42417225e-04,  1.58853977e-03, -3.14975086e-02,\n",
    "        7.62979989e-03, -4.33799840e-02, -1.79966000e-02,  6.36265191e-02,\n",
    "        3.89162314e-02,  4.25868443e-02,  1.74511558e-02, -2.54616999e-02,\n",
    "       -4.26217736e-02,  2.05717192e-01,  3.92933299e-02, -1.34340883e-01,\n",
    "       -1.27979385e-01, -2.43759641e-02,  9.05266716e-02,  1.00967853e-01,\n",
    "        2.34791761e-02, -3.57066432e-02, -2.18058705e-03,  3.89141983e-02,\n",
    "        5.33570265e-03,  1.32766857e-01,  7.76498098e-02, -1.32717857e-01,\n",
    "        8.16956431e-02, -6.68412305e-03, -1.19987008e-03,  5.53574770e-03,\n",
    "       -3.10004200e-03,  4.71638665e-03, -6.31369538e-04, -8.94802965e-03,\n",
    "       -1.09620061e-02,  6.11985934e-03,  1.12625419e-03,  3.94294952e-03,\n",
    "        6.80041130e-03,  2.73335365e-03, -7.12071716e-03,  5.18294298e-04,\n",
    "        6.12209712e-03, -3.06940615e-03, -2.80667186e-03,  2.45173602e-03,\n",
    "       -4.70554225e-03,  1.83430049e-02, -4.97599626e-03, -1.45111696e-02,\n",
    "        1.70457478e-02, -3.76858438e-02,  5.57264618e-03, -2.46122435e-03,\n",
    "        2.77718707e-02, -9.96890909e-03, -1.05992210e-02, -5.32205941e-02,\n",
    "       -5.99789330e-03, -2.59533093e-02,  8.92418842e-02, -1.43769288e-03,\n",
    "       -1.08735714e-01, -7.00892297e-02,  5.85237287e-02, -6.26550663e-02,\n",
    "        6.94389038e-02, -3.83205517e-02,  1.39673942e-01, -4.09858458e-02,\n",
    "       -9.06686085e-02, -1.57488185e-01, -1.08366615e-02,  5.30691234e-02,\n",
    "        1.96533621e-02, -4.99927274e-02, -5.20856648e-02, -4.55432160e-02,\n",
    "       -1.83067539e-02,  6.84900117e-02,  3.23244878e-02, -2.11672976e-01,\n",
    "       -4.08538199e-02,  1.36073946e-01,  1.15037642e-01,  3.95923492e-02,\n",
    "       -1.48601450e-01, -1.04887425e-01, -2.30326534e-02,  4.93145018e-02,\n",
    "        1.00058751e-02, -4.49274649e-02,  7.41233222e-03, -1.65738766e-01,\n",
    "       -1.31403244e-01,  7.50812497e-02, -6.34521506e-02,  5.47362955e-03,\n",
    "        2.12040178e-03,  3.57868905e-02, -3.37220203e-03,  1.02118963e-02,\n",
    "       -3.40204495e-03, -1.69652211e-02, -4.70356618e-03,  9.71900892e-03,\n",
    "       -3.68698035e-02,  3.86709125e-03,  4.96705146e-03, -1.98137943e-02,\n",
    "        4.81169126e-03,  1.63700029e-02,  9.47335336e-03, -6.27182663e-03,\n",
    "       -2.10208076e-03, -1.37529424e-02,  2.08215029e-02,  1.86327635e-02,\n",
    "        6.90875199e-03, -1.41652119e-02, -1.00545806e-02,  5.52439019e-03,\n",
    "        3.07283706e-03,  2.63893931e-02,  2.68301596e-02, -9.27128221e-05,\n",
    "        2.52404614e-03, -7.30906252e-03, -9.20645510e-05,  1.43629685e-02,\n",
    "       -4.79902408e-03, -2.59987346e-03,  2.68868231e-02,  1.05429573e-02,\n",
    "       -2.01956719e-02, -9.05884555e-02, -9.27172639e-03, -7.21362917e-03,\n",
    "       -7.47319518e-03, -5.72682593e-03,  1.78419076e-02,  4.32753148e-02,\n",
    "       -5.20031166e-02,  4.69903381e-02, -9.65353708e-02, -1.35399880e-02,\n",
    "        1.47012216e-02, -1.85967695e-02,  9.16988779e-03,  5.41251155e-03,\n",
    "        6.11077185e-02,  2.75892967e-02, -5.51800400e-02,  3.46132338e-02,\n",
    "       -2.83090238e-02,  7.39770905e-02, -5.89089365e-02,  1.44806758e-02,\n",
    "       -2.91365886e-02,  6.72672591e-03,  4.56168785e-02, -2.52266784e-02,\n",
    "        3.63540137e-02, -6.31438208e-03, -5.52568380e-02,  3.69885665e-03,\n",
    "        8.95198477e-02,  2.65085925e-02, -2.42098335e-01, -2.32290441e-02,\n",
    "       -2.97768296e-02,  2.01782590e-01,  3.45737330e-02, -1.62350403e-02,\n",
    "       -2.70280716e-02, -1.50282763e-02,  2.58252513e-02,  3.32586901e-02,\n",
    "        2.66891150e-01,  1.78048328e-02, -3.01623433e-02,  2.13906645e-02,\n",
    "        1.04156637e-02, -1.16113936e-02, -5.94134367e-03, -1.60776801e-02,\n",
    "        2.43692618e-02, -3.62309947e-02, -3.94728240e-03,  8.62491593e-03,\n",
    "        1.59124884e-02,  1.37713716e-02,  1.81099235e-03, -1.17481431e-02,\n",
    "       -2.58605268e-02,  1.77245587e-02, -3.77761481e-02,  2.33118332e-02,\n",
    "        2.12277836e-02, -5.92177421e-03,  4.92602361e-02, -5.05153210e-03,\n",
    "       -2.46244613e-02, -2.15667665e-02, -2.17264073e-02,  4.90561302e-02,\n",
    "       -8.13801147e-02, -1.85539094e-02,  2.30218198e-02,  1.53784743e-02,\n",
    "       -4.23217317e-02,  4.94784385e-02, -8.02430481e-02, -3.85315400e-02,\n",
    "       -4.78295895e-02,  9.60595189e-02,  2.78062792e-02, -1.52544660e-01,\n",
    "       -1.70365894e-03,  3.36108368e-02,  3.36932096e-02, -8.39365746e-02,\n",
    "       -4.53696210e-03, -7.64213488e-03,  1.01867370e-02,  9.87407264e-04,\n",
    "        8.19987061e-04, -5.97879369e-03, -1.38967165e-02, -1.80887397e-02,\n",
    "        8.21592272e-03, -7.82658411e-03,  1.11886250e-02, -1.59326092e-02,\n",
    "        2.58874242e-02,  3.29310536e-05, -3.39442780e-02,  2.41632978e-02,\n",
    "       -6.03939034e-02, -2.12427187e-02,  1.83945574e-03,  1.55035570e-02,\n",
    "        3.98759715e-03,  7.31399365e-05, -6.88450516e-03, -1.34120720e-02,\n",
    "        1.34290001e-02, -2.55200390e-02, -1.50127970e-03,  3.17473301e-03,\n",
    "       -6.39441841e-02,  2.44104488e-02, -4.39943367e-02,  4.41438646e-02,\n",
    "        2.77261853e-02, -1.41177817e-03,  7.12986867e-02, -5.06528955e-02,\n",
    "       -4.67483144e-02, -8.17680047e-02, -2.42760968e-02,  4.35605576e-02,\n",
    "       -6.89621569e-02,  3.85095891e-02, -7.20208903e-03,  1.56141049e-01,\n",
    "        2.27176784e-02, -1.23567682e-02, -3.40262678e-02,  1.79809320e-02,\n",
    "       -1.17896135e-01,  9.30329959e-02,  1.30639243e-03, -2.31311712e-03,\n",
    "       -7.03068229e-03, -3.69583253e-03,  9.65526988e-04,  3.41230112e-03,\n",
    "        4.31595238e-04, -3.19259232e-03,  5.12130373e-03,  2.43488773e-03,\n",
    "       -3.75063690e-03, -1.81980435e-03, -1.27054687e-02, -6.78968649e-03,\n",
    "        1.17937852e-02,  6.20919986e-03,  1.20709894e-02, -2.12296340e-02,\n",
    "        5.26542525e-02,  9.38316671e-03, -1.49207026e-02, -5.05313927e-03,\n",
    "        2.34279306e-02, -2.21629567e-02,  3.63710468e-02,  1.67594053e-02,\n",
    "        3.31539140e-02, -4.34360562e-02, -1.77951425e-02, -1.43294098e-02,\n",
    "       -1.02265893e-03, -8.86996004e-03,  8.57331509e-03, -3.80800827e-02,\n",
    "       -1.05570284e-03,  1.18625234e-02,  4.07870686e-02, -1.10644625e-02,\n",
    "        2.31168985e-02, -1.58849371e-02, -1.06838927e-02, -3.26514360e-03,\n",
    "       -2.83795369e-02,  2.40550571e-02,  2.56496076e-02,  4.68575353e-02,\n",
    "        1.38512791e-02, -1.93762187e-02,  4.58388597e-02, -9.02232592e-04,\n",
    "        3.88282539e-03,  1.75661815e-02, -1.15407659e-02, -1.63328813e-03,\n",
    "       -1.02238500e-02, -1.19703604e-02, -4.45966880e-03,  3.57427857e-02,\n",
    "       -1.13169541e-02,  8.74981631e-03, -3.73001164e-02, -1.04187266e-02,\n",
    "        3.94977113e-02,  1.21262900e-02,  3.49418108e-02, -4.93499308e-02,\n",
    "        5.27311584e-02, -6.60899096e-03, -2.84248142e-03, -3.53836045e-04,\n",
    "        2.20050527e-03, -4.63261085e-03, -7.92844340e-02,  8.67386923e-03,\n",
    "       -8.03994235e-03,  1.91391579e-02, -5.40781951e-03, -3.05243223e-03,\n",
    "        7.14580723e-03, -1.82123746e-03, -9.79237537e-02,  6.61378792e-02,\n",
    "        4.73865612e-02, -9.77856844e-03,  2.62029871e-03, -1.03449855e-02,\n",
    "        2.88476851e-02,  8.79569612e-03, -3.22909393e-02, -9.38486083e-02]"
   ]
  },
  {
   "cell_type": "code",
   "execution_count": 64,
   "metadata": {},
   "outputs": [],
   "source": [
    "# qasm for the trial state\n",
    "ansatz_qasm = ['']\n",
    "ansatz_qasm.append(QasmUtils.qasm_header(n_orbitals))\n",
    "ansatz_qasm.append(QasmUtils.hf_state(n_electrons))\n",
    "ansatz_qasm += QiskitSimBackend.qasm_from_ansatz(ansatz, parameters)\n",
    "ansatz_qasm = ''.join(ansatz_qasm)\n",
    "\n",
    "# measurement circuits for each of the the four Pauli terms of the operator we want to measure\n",
    "measurements_qasms = ['cx q[0], q[2];\\n', 'cx q[0], q[3];\\n', 'cx q[1], q[2];\\n', 'cx q[1], q[3];\\n']"
   ]
  },
  {
   "cell_type": "markdown",
   "metadata": {},
   "source": [
    "Load IBM account information locally and list available backends. If saved already, just use $load\\_account()$."
   ]
  },
  {
   "cell_type": "code",
   "execution_count": 69,
   "metadata": {},
   "outputs": [
    {
     "name": "stderr",
     "output_type": "stream",
     "text": [
      "ibmqfactory.load_account:WARNING:2022-07-20 18:12:48,053: Credentials are already in use. The existing account in the session will be replaced.\n"
     ]
    },
    {
     "data": {
      "text/plain": [
       "[<IBMQSimulator('ibmq_qasm_simulator') from IBMQ(hub='ibm-q-research-2', group='kings-coll-londo-1', project='main')>,\n",
       " <IBMQBackend('ibmq_armonk') from IBMQ(hub='ibm-q-research-2', group='kings-coll-londo-1', project='main')>,\n",
       " <IBMQBackend('ibmq_santiago') from IBMQ(hub='ibm-q-research-2', group='kings-coll-londo-1', project='main')>,\n",
       " <IBMQBackend('ibmq_bogota') from IBMQ(hub='ibm-q-research-2', group='kings-coll-londo-1', project='main')>,\n",
       " <IBMQBackend('ibmq_lima') from IBMQ(hub='ibm-q-research-2', group='kings-coll-londo-1', project='main')>,\n",
       " <IBMQBackend('ibmq_belem') from IBMQ(hub='ibm-q-research-2', group='kings-coll-londo-1', project='main')>,\n",
       " <IBMQBackend('ibmq_quito') from IBMQ(hub='ibm-q-research-2', group='kings-coll-londo-1', project='main')>,\n",
       " <IBMQBackend('ibmq_guadalupe') from IBMQ(hub='ibm-q-research-2', group='kings-coll-londo-1', project='main')>,\n",
       " <IBMQSimulator('simulator_statevector') from IBMQ(hub='ibm-q-research-2', group='kings-coll-londo-1', project='main')>,\n",
       " <IBMQSimulator('simulator_mps') from IBMQ(hub='ibm-q-research-2', group='kings-coll-londo-1', project='main')>,\n",
       " <IBMQSimulator('simulator_extended_stabilizer') from IBMQ(hub='ibm-q-research-2', group='kings-coll-londo-1', project='main')>,\n",
       " <IBMQSimulator('simulator_stabilizer') from IBMQ(hub='ibm-q-research-2', group='kings-coll-londo-1', project='main')>,\n",
       " <IBMQBackend('ibmq_jakarta') from IBMQ(hub='ibm-q-research-2', group='kings-coll-londo-1', project='main')>,\n",
       " <IBMQBackend('ibmq_manila') from IBMQ(hub='ibm-q-research-2', group='kings-coll-londo-1', project='main')>,\n",
       " <IBMQBackend('ibm_lagos') from IBMQ(hub='ibm-q-research-2', group='kings-coll-londo-1', project='main')>,\n",
       " <IBMQBackend('ibm_perth') from IBMQ(hub='ibm-q-research-2', group='kings-coll-londo-1', project='main')>]"
      ]
     },
     "execution_count": 69,
     "metadata": {},
     "output_type": "execute_result"
    }
   ],
   "source": [
    "IBMQ.load_account()\n",
    "provider = IBMQ.get_provider(hub='ibm-q-research-2', group='kings-coll-londo-1', project='main')\n",
    "provider.backends()"
   ]
  },
  {
   "cell_type": "markdown",
   "metadata": {},
   "source": [
    "Switch between the backends when needed. Print which backend to make sure running correctly."
   ]
  },
  {
   "cell_type": "code",
   "execution_count": 50,
   "metadata": {},
   "outputs": [],
   "source": [
    "backend_sim = provider.get_backend('ibmq_guadalupe')"
   ]
  },
  {
   "cell_type": "code",
   "execution_count": 70,
   "metadata": {},
   "outputs": [],
   "source": [
    "backend_sim = provider.get_backend('ibmq_qasm_simulator')"
   ]
  },
  {
   "cell_type": "code",
   "execution_count": 43,
   "metadata": {},
   "outputs": [],
   "source": [
    "from qiskit.compiler import assemble\n"
   ]
  },
  {
   "cell_type": "code",
   "execution_count": 71,
   "metadata": {},
   "outputs": [
    {
     "name": "stdout",
     "output_type": "stream",
     "text": [
      "ibmq_qasm_simulator\n"
     ]
    }
   ],
   "source": [
    "print(backend_sim)"
   ]
  },
  {
   "cell_type": "markdown",
   "metadata": {},
   "source": [
    "Pauli strings from Openfermion operator:"
   ]
  },
  {
   "cell_type": "code",
   "execution_count": 25,
   "metadata": {},
   "outputs": [
    {
     "data": {
      "text/plain": [
       "cirq.PauliSum(cirq.LinearDict({frozenset({(cirq.LineQubit(0), cirq.Z), (cirq.LineQubit(2), cirq.Z)}): (0.25+0j), frozenset({(cirq.LineQubit(0), cirq.Z), (cirq.LineQubit(3), cirq.Z)}): (-0.25+0j), frozenset({(cirq.LineQubit(1), cirq.Z), (cirq.LineQubit(2), cirq.Z)}): (-0.25+0j), frozenset({(cirq.LineQubit(1), cirq.Z), (cirq.LineQubit(3), cirq.Z)}): (0.25+0j)}))"
      ]
     },
     "execution_count": 25,
     "metadata": {},
     "output_type": "execute_result"
    }
   ],
   "source": [
    "openfermion.transforms.qubit_operator_to_pauli_sum(operator)"
   ]
  },
  {
   "cell_type": "code",
   "execution_count": 34,
   "metadata": {},
   "outputs": [
    {
     "data": {
      "text/plain": [
       "cirq.PauliSum(cirq.LinearDict({frozenset(): (-0.9200822755004079+0j), frozenset({(cirq.LineQubit(1), cirq.Z)}): (0.06859150000000001+0j), frozenset({(cirq.LineQubit(0), cirq.Z)}): (0.06859150000000001+0j), frozenset({(cirq.LineQubit(0), cirq.Z), (cirq.LineQubit(1), cirq.Z)}): (0.0735+0j), frozenset({(cirq.LineQubit(3), cirq.Z)}): (0.058135350000000016+0j), frozenset({(cirq.LineQubit(2), cirq.Z)}): (0.058135350000000016+0j), frozenset({(cirq.LineQubit(3), cirq.Z), (cirq.LineQubit(2), cirq.Z)}): (0.0735+0j), frozenset({(cirq.LineQubit(5), cirq.Y), (cirq.LineQubit(1), cirq.Y), (cirq.LineQubit(3), cirq.Z), (cirq.LineQubit(4), cirq.Z), (cirq.LineQubit(2), cirq.Z)}): (-0.0102330968552639+0j), frozenset({(cirq.LineQubit(3), cirq.Z), (cirq.LineQubit(5), cirq.X), (cirq.LineQubit(4), cirq.Z), (cirq.LineQubit(2), cirq.Z), (cirq.LineQubit(1), cirq.X)}): (-0.0102330968552639+0j), frozenset({(cirq.LineQubit(0), cirq.Y), (cirq.LineQubit(1), cirq.Z), (cirq.LineQubit(4), cirq.Y), (cirq.LineQubit(3), cirq.Z), (cirq.LineQubit(2), cirq.Z)}): (-0.0102330968552639+0j), frozenset({(cirq.LineQubit(4), cirq.X), (cirq.LineQubit(1), cirq.Z), (cirq.LineQubit(0), cirq.X), (cirq.LineQubit(3), cirq.Z), (cirq.LineQubit(2), cirq.Z)}): (-0.0102330968552639+0j), frozenset({(cirq.LineQubit(1), cirq.Y), (cirq.LineQubit(3), cirq.Z), (cirq.LineQubit(6), cirq.Z), (cirq.LineQubit(7), cirq.Y), (cirq.LineQubit(5), cirq.Z), (cirq.LineQubit(4), cirq.Z), (cirq.LineQubit(2), cirq.Z)}): (-0.0058645309558+0j), frozenset({(cirq.LineQubit(7), cirq.X), (cirq.LineQubit(3), cirq.Z), (cirq.LineQubit(6), cirq.Z), (cirq.LineQubit(5), cirq.Z), (cirq.LineQubit(4), cirq.Z), (cirq.LineQubit(2), cirq.Z), (cirq.LineQubit(1), cirq.X)}): (-0.0058645309558+0j), frozenset({(cirq.LineQubit(0), cirq.Y), (cirq.LineQubit(3), cirq.Z), (cirq.LineQubit(5), cirq.Z), (cirq.LineQubit(1), cirq.Z), (cirq.LineQubit(4), cirq.Z), (cirq.LineQubit(2), cirq.Z), (cirq.LineQubit(6), cirq.Y)}): (-0.0058645309558+0j), frozenset({(cirq.LineQubit(3), cirq.Z), (cirq.LineQubit(5), cirq.Z), (cirq.LineQubit(1), cirq.Z), (cirq.LineQubit(6), cirq.X), (cirq.LineQubit(0), cirq.X), (cirq.LineQubit(4), cirq.Z), (cirq.LineQubit(2), cirq.Z)}): (-0.0058645309558+0j), frozenset({(cirq.LineQubit(1), cirq.Y), (cirq.LineQubit(3), cirq.Z), (cirq.LineQubit(6), cirq.Z), (cirq.LineQubit(8), cirq.Z), (cirq.LineQubit(5), cirq.Z), (cirq.LineQubit(9), cirq.Y), (cirq.LineQubit(7), cirq.Z), (cirq.LineQubit(4), cirq.Z), (cirq.LineQubit(2), cirq.Z)}): (-0.0232723792309368+0j), frozenset({(cirq.LineQubit(3), cirq.Z), (cirq.LineQubit(6), cirq.Z), (cirq.LineQubit(8), cirq.Z), (cirq.LineQubit(9), cirq.X), (cirq.LineQubit(5), cirq.Z), (cirq.LineQubit(7), cirq.Z), (cirq.LineQubit(4), cirq.Z), (cirq.LineQubit(2), cirq.Z), (cirq.LineQubit(1), cirq.X)}): (-0.0232723792309368+0j), frozenset({(cirq.LineQubit(0), cirq.Y), (cirq.LineQubit(3), cirq.Z), (cirq.LineQubit(6), cirq.Z), (cirq.LineQubit(5), cirq.Z), (cirq.LineQubit(1), cirq.Z), (cirq.LineQubit(8), cirq.Y), (cirq.LineQubit(7), cirq.Z), (cirq.LineQubit(4), cirq.Z), (cirq.LineQubit(2), cirq.Z)}): (-0.0232723792309368+0j), frozenset({(cirq.LineQubit(3), cirq.Z), (cirq.LineQubit(6), cirq.Z), (cirq.LineQubit(8), cirq.X), (cirq.LineQubit(5), cirq.Z), (cirq.LineQubit(1), cirq.Z), (cirq.LineQubit(0), cirq.X), (cirq.LineQubit(7), cirq.Z), (cirq.LineQubit(4), cirq.Z), (cirq.LineQubit(2), cirq.Z)}): (-0.0232723792309368+0j), frozenset({(cirq.LineQubit(1), cirq.Y), (cirq.LineQubit(10), cirq.Z), (cirq.LineQubit(3), cirq.Z), (cirq.LineQubit(6), cirq.Z), (cirq.LineQubit(8), cirq.Z), (cirq.LineQubit(9), cirq.Z), (cirq.LineQubit(5), cirq.Z), (cirq.LineQubit(11), cirq.Y), (cirq.LineQubit(7), cirq.Z), (cirq.LineQubit(4), cirq.Z), (cirq.LineQubit(2), cirq.Z)}): (0.0285112773771463+0j), frozenset({(cirq.LineQubit(10), cirq.Z), (cirq.LineQubit(3), cirq.Z), (cirq.LineQubit(6), cirq.Z), (cirq.LineQubit(8), cirq.Z), (cirq.LineQubit(9), cirq.Z), (cirq.LineQubit(5), cirq.Z), (cirq.LineQubit(11), cirq.X), (cirq.LineQubit(7), cirq.Z), (cirq.LineQubit(4), cirq.Z), (cirq.LineQubit(2), cirq.Z), (cirq.LineQubit(1), cirq.X)}): (0.0285112773771463+0j), frozenset({(cirq.LineQubit(0), cirq.Y), (cirq.LineQubit(3), cirq.Z), (cirq.LineQubit(6), cirq.Z), (cirq.LineQubit(8), cirq.Z), (cirq.LineQubit(9), cirq.Z), (cirq.LineQubit(5), cirq.Z), (cirq.LineQubit(1), cirq.Z), (cirq.LineQubit(10), cirq.Y), (cirq.LineQubit(7), cirq.Z), (cirq.LineQubit(4), cirq.Z), (cirq.LineQubit(2), cirq.Z)}): (0.0285112773771463+0j), frozenset({(cirq.LineQubit(3), cirq.Z), (cirq.LineQubit(6), cirq.Z), (cirq.LineQubit(8), cirq.Z), (cirq.LineQubit(9), cirq.Z), (cirq.LineQubit(5), cirq.Z), (cirq.LineQubit(1), cirq.Z), (cirq.LineQubit(10), cirq.X), (cirq.LineQubit(0), cirq.X), (cirq.LineQubit(7), cirq.Z), (cirq.LineQubit(4), cirq.Z), (cirq.LineQubit(2), cirq.Z)}): (0.0285112773771463+0j), frozenset({(cirq.LineQubit(1), cirq.Y), (cirq.LineQubit(10), cirq.Z), (cirq.LineQubit(11), cirq.Z), (cirq.LineQubit(3), cirq.Z), (cirq.LineQubit(6), cirq.Z), (cirq.LineQubit(8), cirq.Z), (cirq.LineQubit(9), cirq.Z), (cirq.LineQubit(5), cirq.Z), (cirq.LineQubit(13), cirq.Y), (cirq.LineQubit(12), cirq.Z), (cirq.LineQubit(7), cirq.Z), (cirq.LineQubit(4), cirq.Z), (cirq.LineQubit(2), cirq.Z)}): (0.03368107911672325+0j), frozenset({(cirq.LineQubit(10), cirq.Z), (cirq.LineQubit(11), cirq.Z), (cirq.LineQubit(3), cirq.Z), (cirq.LineQubit(6), cirq.Z), (cirq.LineQubit(8), cirq.Z), (cirq.LineQubit(9), cirq.Z), (cirq.LineQubit(13), cirq.X), (cirq.LineQubit(5), cirq.Z), (cirq.LineQubit(12), cirq.Z), (cirq.LineQubit(7), cirq.Z), (cirq.LineQubit(4), cirq.Z), (cirq.LineQubit(2), cirq.Z), (cirq.LineQubit(1), cirq.X)}): (0.03368107911672325+0j), frozenset({(cirq.LineQubit(0), cirq.Y), (cirq.LineQubit(12), cirq.Y), (cirq.LineQubit(10), cirq.Z), (cirq.LineQubit(11), cirq.Z), (cirq.LineQubit(3), cirq.Z), (cirq.LineQubit(6), cirq.Z), (cirq.LineQubit(8), cirq.Z), (cirq.LineQubit(9), cirq.Z), (cirq.LineQubit(5), cirq.Z), (cirq.LineQubit(1), cirq.Z), (cirq.LineQubit(7), cirq.Z), (cirq.LineQubit(4), cirq.Z), (cirq.LineQubit(2), cirq.Z)}): (0.03368107911672325+0j), frozenset({(cirq.LineQubit(12), cirq.X), (cirq.LineQubit(10), cirq.Z), (cirq.LineQubit(11), cirq.Z), (cirq.LineQubit(3), cirq.Z), (cirq.LineQubit(6), cirq.Z), (cirq.LineQubit(8), cirq.Z), (cirq.LineQubit(9), cirq.Z), (cirq.LineQubit(5), cirq.Z), (cirq.LineQubit(1), cirq.Z), (cirq.LineQubit(0), cirq.X), (cirq.LineQubit(7), cirq.Z), (cirq.LineQubit(4), cirq.Z), (cirq.LineQubit(2), cirq.Z)}): (0.03368107911672325+0j), frozenset({(cirq.LineQubit(5), cirq.Y), (cirq.LineQubit(4), cirq.Z), (cirq.LineQubit(3), cirq.Y)}): (-0.01395767436142885+0j), frozenset({(cirq.LineQubit(3), cirq.X), (cirq.LineQubit(4), cirq.Z), (cirq.LineQubit(5), cirq.X)}): (-0.01395767436142885+0j), frozenset({(cirq.LineQubit(4), cirq.Y), (cirq.LineQubit(3), cirq.Z), (cirq.LineQubit(2), cirq.Y)}): (-0.01395767436142885+0j), frozenset({(cirq.LineQubit(4), cirq.X), (cirq.LineQubit(2), cirq.X), (cirq.LineQubit(3), cirq.Z)}): (-0.01395767436142885+0j), frozenset({(cirq.LineQubit(6), cirq.Z), (cirq.LineQubit(7), cirq.Y), (cirq.LineQubit(3), cirq.Y), (cirq.LineQubit(5), cirq.Z), (cirq.LineQubit(4), cirq.Z)}): (0.02042556305865555+0j), frozenset({(cirq.LineQubit(7), cirq.X), (cirq.LineQubit(6), cirq.Z), (cirq.LineQubit(3), cirq.X), (cirq.LineQubit(5), cirq.Z), (cirq.LineQubit(4), cirq.Z)}): (0.02042556305865555+0j), frozenset({(cirq.LineQubit(3), cirq.Z), (cirq.LineQubit(2), cirq.Y), (cirq.LineQubit(5), cirq.Z), (cirq.LineQubit(4), cirq.Z), (cirq.LineQubit(6), cirq.Y)}): (0.02042556305865555+0j), frozenset({(cirq.LineQubit(3), cirq.Z), (cirq.LineQubit(2), cirq.X), (cirq.LineQubit(5), cirq.Z), (cirq.LineQubit(6), cirq.X), (cirq.LineQubit(4), cirq.Z)}): (0.02042556305865555+0j), frozenset({(cirq.LineQubit(6), cirq.Z), (cirq.LineQubit(8), cirq.Z), (cirq.LineQubit(3), cirq.Y), (cirq.LineQubit(5), cirq.Z), (cirq.LineQubit(9), cirq.Y), (cirq.LineQubit(7), cirq.Z), (cirq.LineQubit(4), cirq.Z)}): (-0.0342747841006893+0j), frozenset({(cirq.LineQubit(6), cirq.Z), (cirq.LineQubit(3), cirq.X), (cirq.LineQubit(8), cirq.Z), (cirq.LineQubit(9), cirq.X), (cirq.LineQubit(5), cirq.Z), (cirq.LineQubit(7), cirq.Z), (cirq.LineQubit(4), cirq.Z)}): (-0.0342747841006893+0j), frozenset({(cirq.LineQubit(3), cirq.Z), (cirq.LineQubit(6), cirq.Z), (cirq.LineQubit(2), cirq.Y), (cirq.LineQubit(5), cirq.Z), (cirq.LineQubit(8), cirq.Y), (cirq.LineQubit(7), cirq.Z), (cirq.LineQubit(4), cirq.Z)}): (-0.0342747841006893+0j), frozenset({(cirq.LineQubit(3), cirq.Z), (cirq.LineQubit(6), cirq.Z), (cirq.LineQubit(2), cirq.X), (cirq.LineQubit(8), cirq.X), (cirq.LineQubit(5), cirq.Z), (cirq.LineQubit(7), cirq.Z), (cirq.LineQubit(4), cirq.Z)}): (-0.0342747841006893+0j), frozenset({(cirq.LineQubit(10), cirq.Z), (cirq.LineQubit(6), cirq.Z), (cirq.LineQubit(8), cirq.Z), (cirq.LineQubit(9), cirq.Z), (cirq.LineQubit(3), cirq.Y), (cirq.LineQubit(5), cirq.Z), (cirq.LineQubit(11), cirq.Y), (cirq.LineQubit(7), cirq.Z), (cirq.LineQubit(4), cirq.Z)}): (-0.0194319517229672+0j), frozenset({(cirq.LineQubit(10), cirq.Z), (cirq.LineQubit(6), cirq.Z), (cirq.LineQubit(3), cirq.X), (cirq.LineQubit(8), cirq.Z), (cirq.LineQubit(9), cirq.Z), (cirq.LineQubit(5), cirq.Z), (cirq.LineQubit(11), cirq.X), (cirq.LineQubit(7), cirq.Z), (cirq.LineQubit(4), cirq.Z)}): (-0.0194319517229672+0j), frozenset({(cirq.LineQubit(3), cirq.Z), (cirq.LineQubit(6), cirq.Z), (cirq.LineQubit(8), cirq.Z), (cirq.LineQubit(9), cirq.Z), (cirq.LineQubit(2), cirq.Y), (cirq.LineQubit(5), cirq.Z), (cirq.LineQubit(10), cirq.Y), (cirq.LineQubit(7), cirq.Z), (cirq.LineQubit(4), cirq.Z)}): (-0.0194319517229672+0j), frozenset({(cirq.LineQubit(3), cirq.Z), (cirq.LineQubit(6), cirq.Z), (cirq.LineQubit(8), cirq.Z), (cirq.LineQubit(2), cirq.X), (cirq.LineQubit(9), cirq.Z), (cirq.LineQubit(5), cirq.Z), (cirq.LineQubit(10), cirq.X), (cirq.LineQubit(7), cirq.Z), (cirq.LineQubit(4), cirq.Z)}): (-0.0194319517229672+0j), frozenset({(cirq.LineQubit(10), cirq.Z), (cirq.LineQubit(11), cirq.Z), (cirq.LineQubit(6), cirq.Z), (cirq.LineQubit(8), cirq.Z), (cirq.LineQubit(9), cirq.Z), (cirq.LineQubit(3), cirq.Y), (cirq.LineQubit(5), cirq.Z), (cirq.LineQubit(13), cirq.Y), (cirq.LineQubit(12), cirq.Z), (cirq.LineQubit(7), cirq.Z), (cirq.LineQubit(4), cirq.Z)}): (-0.0051669611836042+0j), frozenset({(cirq.LineQubit(10), cirq.Z), (cirq.LineQubit(11), cirq.Z), (cirq.LineQubit(6), cirq.Z), (cirq.LineQubit(3), cirq.X), (cirq.LineQubit(8), cirq.Z), (cirq.LineQubit(9), cirq.Z), (cirq.LineQubit(13), cirq.X), (cirq.LineQubit(5), cirq.Z), (cirq.LineQubit(12), cirq.Z), (cirq.LineQubit(7), cirq.Z), (cirq.LineQubit(4), cirq.Z)}): (-0.0051669611836042+0j), frozenset({(cirq.LineQubit(12), cirq.Y), (cirq.LineQubit(10), cirq.Z), (cirq.LineQubit(11), cirq.Z), (cirq.LineQubit(3), cirq.Z), (cirq.LineQubit(6), cirq.Z), (cirq.LineQubit(8), cirq.Z), (cirq.LineQubit(9), cirq.Z), (cirq.LineQubit(2), cirq.Y), (cirq.LineQubit(5), cirq.Z), (cirq.LineQubit(7), cirq.Z), (cirq.LineQubit(4), cirq.Z)}): (-0.0051669611836042+0j), frozenset({(cirq.LineQubit(12), cirq.X), (cirq.LineQubit(10), cirq.Z), (cirq.LineQubit(11), cirq.Z), (cirq.LineQubit(3), cirq.Z), (cirq.LineQubit(6), cirq.Z), (cirq.LineQubit(8), cirq.Z), (cirq.LineQubit(2), cirq.X), (cirq.LineQubit(9), cirq.Z), (cirq.LineQubit(5), cirq.Z), (cirq.LineQubit(7), cirq.Z), (cirq.LineQubit(4), cirq.Z)}): (-0.0051669611836042+0j), frozenset({(cirq.LineQubit(5), cirq.Z)}): (0.05178138173911655+0j), frozenset({(cirq.LineQubit(4), cirq.Z)}): (0.05178138173911655+0j), frozenset({(cirq.LineQubit(5), cirq.Y), (cirq.LineQubit(7), cirq.Y), (cirq.LineQubit(6), cirq.Z)}): (0.00800357635717085+0j), frozenset({(cirq.LineQubit(7), cirq.X), (cirq.LineQubit(5), cirq.X), (cirq.LineQubit(6), cirq.Z)}): (0.00800357635717085+0j), frozenset({(cirq.LineQubit(5), cirq.Z), (cirq.LineQubit(4), cirq.Y), (cirq.LineQubit(6), cirq.Y)}): (0.00800357635717085+0j), frozenset({(cirq.LineQubit(5), cirq.Z), (cirq.LineQubit(4), cirq.X), (cirq.LineQubit(6), cirq.X)}): (0.00800357635717085+0j), frozenset({(cirq.LineQubit(5), cirq.Y), (cirq.LineQubit(6), cirq.Z), (cirq.LineQubit(8), cirq.Z), (cirq.LineQubit(9), cirq.Y), (cirq.LineQubit(7), cirq.Z)}): (-0.04725338824796345+0j), frozenset({(cirq.LineQubit(6), cirq.Z), (cirq.LineQubit(8), cirq.Z), (cirq.LineQubit(9), cirq.X), (cirq.LineQubit(5), cirq.X), (cirq.LineQubit(7), cirq.Z)}): (-0.04725338824796345+0j), frozenset({(cirq.LineQubit(6), cirq.Z), (cirq.LineQubit(5), cirq.Z), (cirq.LineQubit(4), cirq.Y), (cirq.LineQubit(8), cirq.Y), (cirq.LineQubit(7), cirq.Z)}): (-0.04725338824796345+0j), frozenset({(cirq.LineQubit(6), cirq.Z), (cirq.LineQubit(4), cirq.X), (cirq.LineQubit(8), cirq.X), (cirq.LineQubit(5), cirq.Z), (cirq.LineQubit(7), cirq.Z)}): (-0.04725338824796345+0j), frozenset({(cirq.LineQubit(5), cirq.Y), (cirq.LineQubit(10), cirq.Z), (cirq.LineQubit(6), cirq.Z), (cirq.LineQubit(8), cirq.Z), (cirq.LineQubit(9), cirq.Z), (cirq.LineQubit(11), cirq.Y), (cirq.LineQubit(7), cirq.Z)}): (0.00696745171857815+0j), frozenset({(cirq.LineQubit(10), cirq.Z), (cirq.LineQubit(6), cirq.Z), (cirq.LineQubit(8), cirq.Z), (cirq.LineQubit(9), cirq.Z), (cirq.LineQubit(11), cirq.X), (cirq.LineQubit(5), cirq.X), (cirq.LineQubit(7), cirq.Z)}): (0.00696745171857815+0j), frozenset({(cirq.LineQubit(6), cirq.Z), (cirq.LineQubit(8), cirq.Z), (cirq.LineQubit(9), cirq.Z), (cirq.LineQubit(5), cirq.Z), (cirq.LineQubit(4), cirq.Y), (cirq.LineQubit(10), cirq.Y), (cirq.LineQubit(7), cirq.Z)}): (0.00696745171857815+0j), frozenset({(cirq.LineQubit(6), cirq.Z), (cirq.LineQubit(4), cirq.X), (cirq.LineQubit(8), cirq.Z), (cirq.LineQubit(9), cirq.Z), (cirq.LineQubit(5), cirq.Z), (cirq.LineQubit(10), cirq.X), (cirq.LineQubit(7), cirq.Z)}): (0.00696745171857815+0j), frozenset({(cirq.LineQubit(5), cirq.Y), (cirq.LineQubit(10), cirq.Z), (cirq.LineQubit(11), cirq.Z), (cirq.LineQubit(6), cirq.Z), (cirq.LineQubit(8), cirq.Z), (cirq.LineQubit(9), cirq.Z), (cirq.LineQubit(13), cirq.Y), (cirq.LineQubit(12), cirq.Z), (cirq.LineQubit(7), cirq.Z)}): (0.0036965854307191+0j), frozenset({(cirq.LineQubit(10), cirq.Z), (cirq.LineQubit(11), cirq.Z), (cirq.LineQubit(6), cirq.Z), (cirq.LineQubit(8), cirq.Z), (cirq.LineQubit(9), cirq.Z), (cirq.LineQubit(13), cirq.X), (cirq.LineQubit(12), cirq.Z), (cirq.LineQubit(5), cirq.X), (cirq.LineQubit(7), cirq.Z)}): (0.0036965854307191+0j), frozenset({(cirq.LineQubit(12), cirq.Y), (cirq.LineQubit(10), cirq.Z), (cirq.LineQubit(11), cirq.Z), (cirq.LineQubit(6), cirq.Z), (cirq.LineQubit(8), cirq.Z), (cirq.LineQubit(9), cirq.Z), (cirq.LineQubit(5), cirq.Z), (cirq.LineQubit(4), cirq.Y), (cirq.LineQubit(7), cirq.Z)}): (0.0036965854307191+0j), frozenset({(cirq.LineQubit(12), cirq.X), (cirq.LineQubit(10), cirq.Z), (cirq.LineQubit(11), cirq.Z), (cirq.LineQubit(6), cirq.Z), (cirq.LineQubit(4), cirq.X), (cirq.LineQubit(8), cirq.Z), (cirq.LineQubit(9), cirq.Z), (cirq.LineQubit(5), cirq.Z), (cirq.LineQubit(7), cirq.Z)}): (0.0036965854307191+0j), frozenset({(cirq.LineQubit(7), cirq.Z)}): (0.03514668312536425+0j), frozenset({(cirq.LineQubit(6), cirq.Z)}): (0.03514668312536425+0j), frozenset({(cirq.LineQubit(8), cirq.Z), (cirq.LineQubit(7), cirq.Y), (cirq.LineQubit(9), cirq.Y)}): (0.0043850975092616+0j), frozenset({(cirq.LineQubit(8), cirq.Z), (cirq.LineQubit(7), cirq.X), (cirq.LineQubit(9), cirq.X)}): (0.0043850975092616+0j), frozenset({(cirq.LineQubit(8), cirq.Y), (cirq.LineQubit(7), cirq.Z), (cirq.LineQubit(6), cirq.Y)}): (0.0043850975092616+0j), frozenset({(cirq.LineQubit(7), cirq.Z), (cirq.LineQubit(6), cirq.X), (cirq.LineQubit(8), cirq.X)}): (0.0043850975092616+0j), frozenset({(cirq.LineQubit(10), cirq.Z), (cirq.LineQubit(8), cirq.Z), (cirq.LineQubit(9), cirq.Z), (cirq.LineQubit(7), cirq.Y), (cirq.LineQubit(11), cirq.Y)}): (-0.01487110793047115+0j), frozenset({(cirq.LineQubit(7), cirq.X), (cirq.LineQubit(10), cirq.Z), (cirq.LineQubit(8), cirq.Z), (cirq.LineQubit(9), cirq.Z), (cirq.LineQubit(11), cirq.X)}): (-0.01487110793047115+0j), frozenset({(cirq.LineQubit(8), cirq.Z), (cirq.LineQubit(9), cirq.Z), (cirq.LineQubit(10), cirq.Y), (cirq.LineQubit(7), cirq.Z), (cirq.LineQubit(6), cirq.Y)}): (-0.01487110793047115+0j), frozenset({(cirq.LineQubit(8), cirq.Z), (cirq.LineQubit(9), cirq.Z), (cirq.LineQubit(10), cirq.X), (cirq.LineQubit(6), cirq.X), (cirq.LineQubit(7), cirq.Z)}): (-0.01487110793047115+0j), frozenset({(cirq.LineQubit(10), cirq.Z), (cirq.LineQubit(11), cirq.Z), (cirq.LineQubit(8), cirq.Z), (cirq.LineQubit(9), cirq.Z), (cirq.LineQubit(7), cirq.Y), (cirq.LineQubit(13), cirq.Y), (cirq.LineQubit(12), cirq.Z)}): (-0.02364586870809315+0j), frozenset({(cirq.LineQubit(7), cirq.X), (cirq.LineQubit(11), cirq.Z), (cirq.LineQubit(10), cirq.Z), (cirq.LineQubit(8), cirq.Z), (cirq.LineQubit(9), cirq.Z), (cirq.LineQubit(13), cirq.X), (cirq.LineQubit(12), cirq.Z)}): (-0.02364586870809315+0j), frozenset({(cirq.LineQubit(12), cirq.Y), (cirq.LineQubit(10), cirq.Z), (cirq.LineQubit(11), cirq.Z), (cirq.LineQubit(8), cirq.Z), (cirq.LineQubit(9), cirq.Z), (cirq.LineQubit(7), cirq.Z), (cirq.LineQubit(6), cirq.Y)}): (-0.02364586870809315+0j), frozenset({(cirq.LineQubit(12), cirq.X), (cirq.LineQubit(10), cirq.Z), (cirq.LineQubit(11), cirq.Z), (cirq.LineQubit(8), cirq.Z), (cirq.LineQubit(9), cirq.Z), (cirq.LineQubit(6), cirq.X), (cirq.LineQubit(7), cirq.Z)}): (-0.02364586870809315+0j), frozenset({(cirq.LineQubit(9), cirq.Z)}): (0.07645310066235694+0j), frozenset({(cirq.LineQubit(8), cirq.Z)}): (0.07645310066235694+0j), frozenset({(cirq.LineQubit(11), cirq.Y), (cirq.LineQubit(9), cirq.Y), (cirq.LineQubit(10), cirq.Z)}): (-0.01037904738535395+0j), frozenset({(cirq.LineQubit(11), cirq.X), (cirq.LineQubit(10), cirq.Z), (cirq.LineQubit(9), cirq.X)}): (-0.01037904738535395+0j), frozenset({(cirq.LineQubit(8), cirq.Y), (cirq.LineQubit(9), cirq.Z), (cirq.LineQubit(10), cirq.Y)}): (-0.01037904738535395+0j), frozenset({(cirq.LineQubit(9), cirq.Z), (cirq.LineQubit(10), cirq.X), (cirq.LineQubit(8), cirq.X)}): (-0.01037904738535395+0j), frozenset({(cirq.LineQubit(11), cirq.Z), (cirq.LineQubit(10), cirq.Z), (cirq.LineQubit(13), cirq.Y), (cirq.LineQubit(12), cirq.Z), (cirq.LineQubit(9), cirq.Y)}): (0.00386000942055545+0j), frozenset({(cirq.LineQubit(11), cirq.Z), (cirq.LineQubit(10), cirq.Z), (cirq.LineQubit(13), cirq.X), (cirq.LineQubit(9), cirq.X), (cirq.LineQubit(12), cirq.Z)}): (0.00386000942055545+0j), frozenset({(cirq.LineQubit(12), cirq.Y), (cirq.LineQubit(11), cirq.Z), (cirq.LineQubit(10), cirq.Z), (cirq.LineQubit(9), cirq.Z), (cirq.LineQubit(8), cirq.Y)}): (0.00386000942055545+0j), frozenset({(cirq.LineQubit(12), cirq.X), (cirq.LineQubit(11), cirq.Z), (cirq.LineQubit(10), cirq.Z), (cirq.LineQubit(9), cirq.Z), (cirq.LineQubit(8), cirq.X)}): (0.00386000942055545+0j), frozenset({(cirq.LineQubit(11), cirq.Z)}): (0.0472879363412088+0j), frozenset({(cirq.LineQubit(10), cirq.Z)}): (0.0472879363412088+0j), frozenset({(cirq.LineQubit(13), cirq.Y), (cirq.LineQubit(12), cirq.Z), (cirq.LineQubit(11), cirq.Y)}): (-0.0472194011845761+0j), frozenset({(cirq.LineQubit(11), cirq.X), (cirq.LineQubit(12), cirq.Z), (cirq.LineQubit(13), cirq.X)}): (-0.0472194011845761+0j), frozenset({(cirq.LineQubit(11), cirq.Z), (cirq.LineQubit(10), cirq.Y), (cirq.LineQubit(12), cirq.Y)}): (-0.0472194011845761+0j), frozenset({(cirq.LineQubit(12), cirq.X), (cirq.LineQubit(10), cirq.X), (cirq.LineQubit(11), cirq.Z)}): (-0.0472194011845761+0j), frozenset({(cirq.LineQubit(13), cirq.Z)}): (0.0491451858821573+0j), frozenset({(cirq.LineQubit(12), cirq.Z)}): (0.0491451858821573+0j)}))"
      ]
     },
     "execution_count": 34,
     "metadata": {},
     "output_type": "execute_result"
    }
   ],
   "source": [
    "openfermion.transforms.qubit_operator_to_pauli_sum(openfermion.jordan_wigner(ham_14_qubits(0.294)))"
   ]
  },
  {
   "cell_type": "code",
   "execution_count": 32,
   "metadata": {},
   "outputs": [
    {
     "data": {
      "text/plain": [
       "(-0.9200822755004079+0j) [] +\n",
       "(-0.0102330968552639+0j) [X0 Z1 Z2 Z3 X4] +\n",
       "(-0.0058645309558+0j) [X0 Z1 Z2 Z3 Z4 Z5 X6] +\n",
       "(-0.0232723792309368+0j) [X0 Z1 Z2 Z3 Z4 Z5 Z6 Z7 X8] +\n",
       "(0.0285112773771463+0j) [X0 Z1 Z2 Z3 Z4 Z5 Z6 Z7 Z8 Z9 X10] +\n",
       "(0.03368107911672325+0j) [X0 Z1 Z2 Z3 Z4 Z5 Z6 Z7 Z8 Z9 Z10 Z11 X12] +\n",
       "(-0.0102330968552639+0j) [Y0 Z1 Z2 Z3 Y4] +\n",
       "(-0.0058645309558+0j) [Y0 Z1 Z2 Z3 Z4 Z5 Y6] +\n",
       "(-0.0232723792309368+0j) [Y0 Z1 Z2 Z3 Z4 Z5 Z6 Z7 Y8] +\n",
       "(0.0285112773771463+0j) [Y0 Z1 Z2 Z3 Z4 Z5 Z6 Z7 Z8 Z9 Y10] +\n",
       "(0.03368107911672325+0j) [Y0 Z1 Z2 Z3 Z4 Z5 Z6 Z7 Z8 Z9 Z10 Z11 Y12] +\n",
       "(0.06859150000000001+0j) [Z0] +\n",
       "(0.0735+0j) [Z0 Z1] +\n",
       "(-0.0102330968552639+0j) [X1 Z2 Z3 Z4 X5] +\n",
       "(-0.0058645309558+0j) [X1 Z2 Z3 Z4 Z5 Z6 X7] +\n",
       "(-0.0232723792309368+0j) [X1 Z2 Z3 Z4 Z5 Z6 Z7 Z8 X9] +\n",
       "(0.0285112773771463+0j) [X1 Z2 Z3 Z4 Z5 Z6 Z7 Z8 Z9 Z10 X11] +\n",
       "(0.03368107911672325+0j) [X1 Z2 Z3 Z4 Z5 Z6 Z7 Z8 Z9 Z10 Z11 Z12 X13] +\n",
       "(-0.0102330968552639+0j) [Y1 Z2 Z3 Z4 Y5] +\n",
       "(-0.0058645309558+0j) [Y1 Z2 Z3 Z4 Z5 Z6 Y7] +\n",
       "(-0.0232723792309368+0j) [Y1 Z2 Z3 Z4 Z5 Z6 Z7 Z8 Y9] +\n",
       "(0.0285112773771463+0j) [Y1 Z2 Z3 Z4 Z5 Z6 Z7 Z8 Z9 Z10 Y11] +\n",
       "(0.03368107911672325+0j) [Y1 Z2 Z3 Z4 Z5 Z6 Z7 Z8 Z9 Z10 Z11 Z12 Y13] +\n",
       "(0.06859150000000001+0j) [Z1] +\n",
       "(-0.01395767436142885+0j) [X2 Z3 X4] +\n",
       "(0.02042556305865555+0j) [X2 Z3 Z4 Z5 X6] +\n",
       "(-0.0342747841006893+0j) [X2 Z3 Z4 Z5 Z6 Z7 X8] +\n",
       "(-0.0194319517229672+0j) [X2 Z3 Z4 Z5 Z6 Z7 Z8 Z9 X10] +\n",
       "(-0.0051669611836042+0j) [X2 Z3 Z4 Z5 Z6 Z7 Z8 Z9 Z10 Z11 X12] +\n",
       "(-0.01395767436142885+0j) [Y2 Z3 Y4] +\n",
       "(0.02042556305865555+0j) [Y2 Z3 Z4 Z5 Y6] +\n",
       "(-0.0342747841006893+0j) [Y2 Z3 Z4 Z5 Z6 Z7 Y8] +\n",
       "(-0.0194319517229672+0j) [Y2 Z3 Z4 Z5 Z6 Z7 Z8 Z9 Y10] +\n",
       "(-0.0051669611836042+0j) [Y2 Z3 Z4 Z5 Z6 Z7 Z8 Z9 Z10 Z11 Y12] +\n",
       "(0.058135350000000016+0j) [Z2] +\n",
       "(0.0735+0j) [Z2 Z3] +\n",
       "(-0.01395767436142885+0j) [X3 Z4 X5] +\n",
       "(0.02042556305865555+0j) [X3 Z4 Z5 Z6 X7] +\n",
       "(-0.0342747841006893+0j) [X3 Z4 Z5 Z6 Z7 Z8 X9] +\n",
       "(-0.0194319517229672+0j) [X3 Z4 Z5 Z6 Z7 Z8 Z9 Z10 X11] +\n",
       "(-0.0051669611836042+0j) [X3 Z4 Z5 Z6 Z7 Z8 Z9 Z10 Z11 Z12 X13] +\n",
       "(-0.01395767436142885+0j) [Y3 Z4 Y5] +\n",
       "(0.02042556305865555+0j) [Y3 Z4 Z5 Z6 Y7] +\n",
       "(-0.0342747841006893+0j) [Y3 Z4 Z5 Z6 Z7 Z8 Y9] +\n",
       "(-0.0194319517229672+0j) [Y3 Z4 Z5 Z6 Z7 Z8 Z9 Z10 Y11] +\n",
       "(-0.0051669611836042+0j) [Y3 Z4 Z5 Z6 Z7 Z8 Z9 Z10 Z11 Z12 Y13] +\n",
       "(0.058135350000000016+0j) [Z3] +\n",
       "(0.00800357635717085+0j) [X4 Z5 X6] +\n",
       "(-0.04725338824796345+0j) [X4 Z5 Z6 Z7 X8] +\n",
       "(0.00696745171857815+0j) [X4 Z5 Z6 Z7 Z8 Z9 X10] +\n",
       "(0.0036965854307191+0j) [X4 Z5 Z6 Z7 Z8 Z9 Z10 Z11 X12] +\n",
       "(0.00800357635717085+0j) [Y4 Z5 Y6] +\n",
       "(-0.04725338824796345+0j) [Y4 Z5 Z6 Z7 Y8] +\n",
       "(0.00696745171857815+0j) [Y4 Z5 Z6 Z7 Z8 Z9 Y10] +\n",
       "(0.0036965854307191+0j) [Y4 Z5 Z6 Z7 Z8 Z9 Z10 Z11 Y12] +\n",
       "(0.05178138173911655+0j) [Z4] +\n",
       "(0.00800357635717085+0j) [X5 Z6 X7] +\n",
       "(-0.04725338824796345+0j) [X5 Z6 Z7 Z8 X9] +\n",
       "(0.00696745171857815+0j) [X5 Z6 Z7 Z8 Z9 Z10 X11] +\n",
       "(0.0036965854307191+0j) [X5 Z6 Z7 Z8 Z9 Z10 Z11 Z12 X13] +\n",
       "(0.00800357635717085+0j) [Y5 Z6 Y7] +\n",
       "(-0.04725338824796345+0j) [Y5 Z6 Z7 Z8 Y9] +\n",
       "(0.00696745171857815+0j) [Y5 Z6 Z7 Z8 Z9 Z10 Y11] +\n",
       "(0.0036965854307191+0j) [Y5 Z6 Z7 Z8 Z9 Z10 Z11 Z12 Y13] +\n",
       "(0.05178138173911655+0j) [Z5] +\n",
       "(0.0043850975092616+0j) [X6 Z7 X8] +\n",
       "(-0.01487110793047115+0j) [X6 Z7 Z8 Z9 X10] +\n",
       "(-0.02364586870809315+0j) [X6 Z7 Z8 Z9 Z10 Z11 X12] +\n",
       "(0.0043850975092616+0j) [Y6 Z7 Y8] +\n",
       "(-0.01487110793047115+0j) [Y6 Z7 Z8 Z9 Y10] +\n",
       "(-0.02364586870809315+0j) [Y6 Z7 Z8 Z9 Z10 Z11 Y12] +\n",
       "(0.03514668312536425+0j) [Z6] +\n",
       "(0.0043850975092616+0j) [X7 Z8 X9] +\n",
       "(-0.01487110793047115+0j) [X7 Z8 Z9 Z10 X11] +\n",
       "(-0.02364586870809315+0j) [X7 Z8 Z9 Z10 Z11 Z12 X13] +\n",
       "(0.0043850975092616+0j) [Y7 Z8 Y9] +\n",
       "(-0.01487110793047115+0j) [Y7 Z8 Z9 Z10 Y11] +\n",
       "(-0.02364586870809315+0j) [Y7 Z8 Z9 Z10 Z11 Z12 Y13] +\n",
       "(0.03514668312536425+0j) [Z7] +\n",
       "(-0.01037904738535395+0j) [X8 Z9 X10] +\n",
       "(0.00386000942055545+0j) [X8 Z9 Z10 Z11 X12] +\n",
       "(-0.01037904738535395+0j) [Y8 Z9 Y10] +\n",
       "(0.00386000942055545+0j) [Y8 Z9 Z10 Z11 Y12] +\n",
       "(0.07645310066235694+0j) [Z8] +\n",
       "(-0.01037904738535395+0j) [X9 Z10 X11] +\n",
       "(0.00386000942055545+0j) [X9 Z10 Z11 Z12 X13] +\n",
       "(-0.01037904738535395+0j) [Y9 Z10 Y11] +\n",
       "(0.00386000942055545+0j) [Y9 Z10 Z11 Z12 Y13] +\n",
       "(0.07645310066235694+0j) [Z9] +\n",
       "(-0.0472194011845761+0j) [X10 Z11 X12] +\n",
       "(-0.0472194011845761+0j) [Y10 Z11 Y12] +\n",
       "(0.0472879363412088+0j) [Z10] +\n",
       "(-0.0472194011845761+0j) [X11 Z12 X13] +\n",
       "(-0.0472194011845761+0j) [Y11 Z12 Y13] +\n",
       "(0.0472879363412088+0j) [Z11] +\n",
       "(0.0491451858821573+0j) [Z12] +\n",
       "(0.0491451858821573+0j) [Z13]"
      ]
     },
     "execution_count": 32,
     "metadata": {},
     "output_type": "execute_result"
    }
   ],
   "source": [
    "openfermion.jordan_wigner(ham_14_qubits(0.294))"
   ]
  },
  {
   "cell_type": "code",
   "execution_count": 59,
   "metadata": {},
   "outputs": [],
   "source": [
    "\n",
    "def meas_probs_of_single_qubit(qasm, qubit=0):\n",
    "    circ = QuantumCircuit.from_qasm_str(qasm)\n",
    "    circ.measure([qubit], [qubit])\n",
    "    \n",
    "    shots = 1024\n",
    "    my_qobj = assemble(transpile(circ, backend_sim))\n",
    "    job_sim = backend_sim.run(my_qobj)\n",
    "    result_sim = job_sim.result()\n",
    "    counts = result_sim.get_counts(circ)\n",
    "    \n",
    "    key_0 = '0'*n_orbitals\n",
    "    key_1 = list(key_0)\n",
    "    key_1[n_orbitals - qubit - 1] = '1'\n",
    "    key_1 = ''.join(key_1)\n",
    "    \n",
    "    return counts[key_0]/ shots, counts[key_1] / shots\n",
    "    \n",
    "# dummy_qasm = 'OPENQASM 2.0;\\ninclude \"qelib1.inc\";\\nqreg q[14];\\ncreg c[14];\\n rx(1.57) q[0];' \n",
    "# meas_probs_of_single_qubit(dummy_qasm, 0)\n"
   ]
  },
  {
   "cell_type": "code",
   "execution_count": 61,
   "metadata": {},
   "outputs": [
    {
     "name": "stdout",
     "output_type": "stream",
     "text": [
      "0\n",
      "1\n",
      "2\n",
      "3\n",
      "\n",
      "Spin-spin correlation: -0.3486328125 on machine: ibmq_qasm_simulator\n"
     ]
    }
   ],
   "source": [
    "# measure the operator expectation value\n",
    "\n",
    "exp_value = 0\n",
    "\n",
    "operator_coefficients = [0.25, -0.25, - 0.25, 0.25]\n",
    "measured_qubits = [2,3,2,3]\n",
    "\n",
    "\n",
    "for i in range(4):\n",
    "    print(i)\n",
    "    probs = meas_probs_of_single_qubit(ansatz_qasm + measurements_qasms[i], measured_qubits[i])\n",
    "    exp_value += operator_coefficients[i]*(probs[0] - probs[1])\n",
    "\n",
    "print('')\n",
    "print('Spin-spin correlation: {0} on machine: {1}'.format(exp_value, backend_sim))"
   ]
  },
  {
   "cell_type": "markdown",
   "metadata": {},
   "source": [
    "| ibmq_qasm_simulator | ibmq_guadalupe |\n",
    "|---------------------|----------------|\n",
    "| -0.3837890625       | 0.03369140625  |\n",
    "| -0.34716796875      | 0.04296875     |\n",
    "| -0.35595703125      | -0.00927734375  |\n",
    "| -0.34814453125      | 0.02099609375  |\n",
    "| -0.370605           | 0.00537109375  |"
   ]
  },
  {
   "cell_type": "markdown",
   "metadata": {},
   "source": [
    "Measure ansatz decay with Identity."
   ]
  },
  {
   "cell_type": "code",
   "execution_count": 68,
   "metadata": {},
   "outputs": [
    {
     "ename": "TypeError",
     "evalue": "Operator must be a FermionOperator, MajoranaOperator, DiagonalCoulombHamiltonian, or InteractionOperator.",
     "output_type": "error",
     "traceback": [
      "\u001B[0;31m---------------------------------------------------------------------------\u001B[0m",
      "\u001B[0;31mTypeError\u001B[0m                                 Traceback (most recent call last)",
      "Input \u001B[0;32mIn [68]\u001B[0m, in \u001B[0;36m<cell line: 2>\u001B[0;34m()\u001B[0m\n\u001B[1;32m      1\u001B[0m identity_operator \u001B[38;5;241m=\u001B[39m openfermion\u001B[38;5;241m.\u001B[39mFermionOperator()\n\u001B[0;32m----> 2\u001B[0m identity_operator \u001B[38;5;241m=\u001B[39m \u001B[43mopenfermion\u001B[49m\u001B[38;5;241;43m.\u001B[39;49m\u001B[43mjordan_wigner\u001B[49m\u001B[43m(\u001B[49m\u001B[43moperator\u001B[49m\u001B[43m)\u001B[49m\n\u001B[1;32m      3\u001B[0m identity_operator\n",
      "File \u001B[0;32m~/opt/anaconda3/envs/vqe_test/lib/python3.9/site-packages/openfermion/transforms/opconversions/jordan_wigner.py:52\u001B[0m, in \u001B[0;36mjordan_wigner\u001B[0;34m(operator)\u001B[0m\n\u001B[1;32m     50\u001B[0m \u001B[38;5;28;01mif\u001B[39;00m \u001B[38;5;28misinstance\u001B[39m(operator, InteractionOperator):\n\u001B[1;32m     51\u001B[0m     \u001B[38;5;28;01mreturn\u001B[39;00m _jordan_wigner_interaction_op(operator)\n\u001B[0;32m---> 52\u001B[0m \u001B[38;5;28;01mraise\u001B[39;00m \u001B[38;5;167;01mTypeError\u001B[39;00m(\u001B[38;5;124m\"\u001B[39m\u001B[38;5;124mOperator must be a FermionOperator, \u001B[39m\u001B[38;5;124m\"\u001B[39m\n\u001B[1;32m     53\u001B[0m                 \u001B[38;5;124m\"\u001B[39m\u001B[38;5;124mMajoranaOperator, \u001B[39m\u001B[38;5;124m\"\u001B[39m\n\u001B[1;32m     54\u001B[0m                 \u001B[38;5;124m\"\u001B[39m\u001B[38;5;124mDiagonalCoulombHamiltonian, or \u001B[39m\u001B[38;5;124m\"\u001B[39m\n\u001B[1;32m     55\u001B[0m                 \u001B[38;5;124m\"\u001B[39m\u001B[38;5;124mInteractionOperator.\u001B[39m\u001B[38;5;124m\"\u001B[39m)\n",
      "\u001B[0;31mTypeError\u001B[0m: Operator must be a FermionOperator, MajoranaOperator, DiagonalCoulombHamiltonian, or InteractionOperator."
     ]
    }
   ],
   "source": [
    "identity_operator = openfermion.FermionOperator()\n",
    "identity_operator = openfermion.jordan_wigner(operator)\n",
    "identity_operator"
   ]
  },
  {
   "cell_type": "code",
   "execution_count": 76,
   "metadata": {},
   "outputs": [
    {
     "name": "stderr",
     "output_type": "stream",
     "text": [
      "Exception in thread ray_print_logs:\n",
      "Traceback (most recent call last):\n",
      "  File \"/Users/elenachachkarova/opt/anaconda3/envs/vqe_test/lib/python3.9/threading.py\", line 973, in _bootstrap_inner\n",
      "    self.run()\n",
      "  File \"/Users/elenachachkarova/opt/anaconda3/envs/vqe_test/lib/python3.9/threading.py\", line 910, in run\n",
      "    self._target(*self._args, **self._kwargs)\n",
      "  File \"/Users/elenachachkarova/opt/anaconda3/envs/vqe_test/lib/python3.9/site-packages/ray/worker.py\", line 439, in print_logs\n",
      "    pubsub_client.subscribe(gcs_utils.LOG_FILE_CHANNEL)\n",
      "  File \"/Users/elenachachkarova/opt/anaconda3/envs/vqe_test/lib/python3.9/site-packages/redis/client.py\", line 1527, in subscribe\n",
      "    ret_val = self.execute_command(\"SUBSCRIBE\", *new_channels.keys())\n",
      "  File \"/Users/elenachachkarova/opt/anaconda3/envs/vqe_test/lib/python3.9/site-packages/redis/client.py\", line 1368, in execute_command\n",
      "    self.connection = self.connection_pool.get_connection(\n",
      "  File \"/Users/elenachachkarova/opt/anaconda3/envs/vqe_test/lib/python3.9/site-packages/redis/connection.py\", line 1317, in get_connection\n",
      "    if connection.can_read():\n",
      "  File \"/Users/elenachachkarova/opt/anaconda3/envs/vqe_test/lib/python3.9/site-packages/redis/connection.py\", line 795, in can_read\n",
      "    return self._parser.can_read(timeout)\n",
      "  File \"/Users/elenachachkarova/opt/anaconda3/envs/vqe_test/lib/python3.9/site-packages/redis/connection.py\", line 317, in can_read\n",
      "    return self._buffer and self._buffer.can_read(timeout)\n",
      "  File \"/Users/elenachachkarova/opt/anaconda3/envs/vqe_test/lib/python3.9/site-packages/redis/connection.py\", line 224, in can_read\n",
      "    return bool(self.length) or self._read_from_socket(\n",
      "  File \"/Users/elenachachkarova/opt/anaconda3/envs/vqe_test/lib/python3.9/site-packages/redis/connection.py\", line 194, in _read_from_socket\n",
      "    data = self._sock.recv(socket_read_size)\n",
      "ConnectionResetError: [Errno 54] Connection reset by peer\n"
     ]
    },
    {
     "ename": "AttributeError",
     "evalue": "'IBMQSimulator' object has no attribute 'ansatz_gradient'",
     "output_type": "error",
     "traceback": [
      "\u001B[0;31m---------------------------------------------------------------------------\u001B[0m",
      "\u001B[0;31mAttributeError\u001B[0m                            Traceback (most recent call last)",
      "Input \u001B[0;32mIn [76]\u001B[0m, in \u001B[0;36m<cell line: 19>\u001B[0;34m()\u001B[0m\n\u001B[1;32m     15\u001B[0m optimizer_options \u001B[38;5;241m=\u001B[39m {\u001B[38;5;124m'\u001B[39m\u001B[38;5;124mgtol\u001B[39m\u001B[38;5;124m'\u001B[39m: \u001B[38;5;241m10e-8\u001B[39m, \u001B[38;5;124m'\u001B[39m\u001B[38;5;124mmaxiter\u001B[39m\u001B[38;5;124m'\u001B[39m: \u001B[38;5;241m100\u001B[39m}\n\u001B[1;32m     16\u001B[0m vqe_runner \u001B[38;5;241m=\u001B[39m VQERunner(e_system, backend\u001B[38;5;241m=\u001B[39mbackend_sim, print_var_parameters\u001B[38;5;241m=\u001B[39m\u001B[38;5;28;01mFalse\u001B[39;00m, use_ansatz_gradient\u001B[38;5;241m=\u001B[39m\u001B[38;5;28;01mTrue\u001B[39;00m,\n\u001B[1;32m     17\u001B[0m                            optimizer\u001B[38;5;241m=\u001B[39moptimizer, optimizer_options\u001B[38;5;241m=\u001B[39moptimizer_options)\n\u001B[0;32m---> 19\u001B[0m result \u001B[38;5;241m=\u001B[39m \u001B[43mvqe_runner\u001B[49m\u001B[38;5;241;43m.\u001B[39;49m\u001B[43mvqe_run\u001B[49m\u001B[43m(\u001B[49m\u001B[43mansatz\u001B[49m\u001B[38;5;241;43m=\u001B[39;49m\u001B[43mansatz\u001B[49m\u001B[43m,\u001B[49m\u001B[43m  \u001B[49m\u001B[43mcache\u001B[49m\u001B[38;5;241;43m=\u001B[39;49m\u001B[43mglobal_cache\u001B[49m\u001B[43m,\u001B[49m\u001B[43m \u001B[49m\u001B[43minit_state_qasm\u001B[49m\u001B[38;5;241;43m=\u001B[39;49m\u001B[43minit_qasm\u001B[49m\u001B[43m)\u001B[49m\n\u001B[1;32m     20\u001B[0m \u001B[38;5;28mprint\u001B[39m(result)\n",
      "File \u001B[0;32m~/Desktop/Phd/VQE-master/src/vqe_runner.py:85\u001B[0m, in \u001B[0;36mVQERunner.vqe_run\u001B[0;34m(self, ansatz, init_guess_parameters, init_state_qasm, excited_state, cache)\u001B[0m\n\u001B[1;32m     81\u001B[0m \u001B[38;5;66;03m# functions to be called by the optimizer\u001B[39;00m\n\u001B[1;32m     82\u001B[0m get_energy \u001B[38;5;241m=\u001B[39m partial(\u001B[38;5;28mself\u001B[39m\u001B[38;5;241m.\u001B[39mget_energy, ansatz\u001B[38;5;241m=\u001B[39mansatz, backend\u001B[38;5;241m=\u001B[39m\u001B[38;5;28mself\u001B[39m\u001B[38;5;241m.\u001B[39mbackend, init_state_qasm\u001B[38;5;241m=\u001B[39minit_state_qasm,\n\u001B[1;32m     83\u001B[0m                      excited_state\u001B[38;5;241m=\u001B[39mexcited_state, cache\u001B[38;5;241m=\u001B[39mcache)\n\u001B[0;32m---> 85\u001B[0m get_gradient \u001B[38;5;241m=\u001B[39m partial(\u001B[38;5;28;43mself\u001B[39;49m\u001B[38;5;241;43m.\u001B[39;49m\u001B[43mbackend\u001B[49m\u001B[38;5;241;43m.\u001B[39;49m\u001B[43mansatz_gradient\u001B[49m, ansatz\u001B[38;5;241m=\u001B[39mansatz, q_system\u001B[38;5;241m=\u001B[39m\u001B[38;5;28mself\u001B[39m\u001B[38;5;241m.\u001B[39mq_system,\n\u001B[1;32m     86\u001B[0m                        init_state_qasm\u001B[38;5;241m=\u001B[39minit_state_qasm, cache\u001B[38;5;241m=\u001B[39mcache, excited_state\u001B[38;5;241m=\u001B[39mexcited_state)\n\u001B[1;32m     88\u001B[0m \u001B[38;5;28;01mif\u001B[39;00m \u001B[38;5;28mself\u001B[39m\u001B[38;5;241m.\u001B[39muse_ansatz_gradient:\n\u001B[1;32m     89\u001B[0m     result \u001B[38;5;241m=\u001B[39m scipy\u001B[38;5;241m.\u001B[39moptimize\u001B[38;5;241m.\u001B[39mminimize(get_energy, var_parameters, jac\u001B[38;5;241m=\u001B[39mget_gradient, method\u001B[38;5;241m=\u001B[39m\u001B[38;5;28mself\u001B[39m\u001B[38;5;241m.\u001B[39moptimizer,\n\u001B[1;32m     90\u001B[0m                                      options\u001B[38;5;241m=\u001B[39m\u001B[38;5;28mself\u001B[39m\u001B[38;5;241m.\u001B[39moptimizer_options, tol\u001B[38;5;241m=\u001B[39mconfig\u001B[38;5;241m.\u001B[39moptimizer_tol,\n\u001B[1;32m     91\u001B[0m                                      bounds\u001B[38;5;241m=\u001B[39mconfig\u001B[38;5;241m.\u001B[39moptimizer_bounds)\n",
      "\u001B[0;31mAttributeError\u001B[0m: 'IBMQSimulator' object has no attribute 'ansatz_gradient'"
     ]
    }
   ],
   "source": [
    "n_orbitals = 14\n",
    "n_electrons = 10\n",
    "H = ham_14_qubits(0.294)\n",
    "e_system = ElectronicSystem(H, n_orbitals, n_electrons)\n",
    "\n",
    "\n",
    "ansatz = ansatz_1()\n",
    "#ansatz = long_ansatz()\n",
    "\n",
    "init_qasm = None\n",
    "global_cache = GlobalCache(e_system, excited_state=0)\n",
    "global_cache.calculate_exc_gen_sparse_matrices_dict(ansatz)\n",
    "optimizer = 'BFGS'\n",
    "optimizer_options = {'gtol': 10e-8}\n",
    "optimizer_options = {'gtol': 10e-8, 'maxiter': 100}\n",
    "vqe_runner = VQERunner(e_system, backend=backend_sim, print_var_parameters=False, use_ansatz_gradient=True,\n",
    "                           optimizer=optimizer, optimizer_options=optimizer_options)\n",
    "\n",
    "result = vqe_runner.vqe_run(ansatz=ansatz,  cache=global_cache, init_state_qasm=init_qasm)\n",
    "print(result)"
   ]
  },
  {
   "cell_type": "code",
   "execution_count": 75,
   "metadata": {},
   "outputs": [],
   "source": [
    "def ansatz_1():\n",
    "    n_orbitals = 14\n",
    "    ansatz = []\n",
    "    # ansatz.append(Gen2QubitAnsatzElement(0, 1))\n",
    "\n",
    "    for i in range(n_orbitals):\n",
    "        for j in range(i + 1, n_orbitals):\n",
    "            if i % 2 == j % 2:\n",
    "                ansatz.append(EffSFExc(i, j, system_n_qubits=n_orbitals))\n",
    "\n",
    "    for i, j, k, l in itertools.combinations(range(n_orbitals), 4):\n",
    "        # spin conserving excitations only\n",
    "        if i % 2 + j % 2 == k % 2 + l % 2:\n",
    "            ansatz.append(DFExc([i, j], [k, l], system_n_qubits=n_orbitals))\n",
    "            # ansatz.append(DFExc([i, k], [j, l], system_n_qubits=n_orbitals))\n",
    "            # ansatz.append(DFExc([i, l], [k, j], system_n_qubits=n_orbitals))\n",
    "\n",
    "    return ansatz"
   ]
  },
  {
   "cell_type": "code",
   "execution_count": null,
   "metadata": {},
   "outputs": [],
   "source": []
  }
 ],
 "metadata": {
  "kernelspec": {
   "display_name": "Python 3 (ipykernel)",
   "language": "python",
   "name": "python3"
  },
  "language_info": {
   "codemirror_mode": {
    "name": "ipython",
    "version": 3
   },
   "file_extension": ".py",
   "mimetype": "text/x-python",
   "name": "python",
   "nbconvert_exporter": "python",
   "pygments_lexer": "ipython3",
   "version": "3.9.7"
  }
 },
 "nbformat": 4,
 "nbformat_minor": 2
}